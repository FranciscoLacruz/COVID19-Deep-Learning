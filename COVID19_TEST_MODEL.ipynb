{
 "cells": [
  {
   "cell_type": "code",
   "execution_count": 2,
   "metadata": {},
   "outputs": [],
   "source": [
    "import tensorflow \n",
    "import cv2\n",
    "import numpy as np\n",
    "import os\n",
    "from random import shuffle\n",
    "from tqdm import tqdm\n",
    "from matplotlib.image import imread\n",
    "\n",
    "from tensorflow.keras.utils import to_categorical\n",
    "from tensorflow.keras.callbacks import ReduceLROnPlateau, ModelCheckpoint, EarlyStopping\n",
    "\n",
    "import sys\n",
    "import matplotlib.pyplot as plt\n",
    "from tensorflow.keras.utils import to_categorical\n",
    "from tensorflow.keras.models import Sequential\n",
    "from tensorflow.keras.layers import Conv2D, MaxPooling2D, Dense, Flatten, Dropout, BatchNormalization\n",
    "\n",
    "from tensorflow.keras.optimizers import SGD\n",
    "from tensorflow.keras.preprocessing.image import ImageDataGenerator\n",
    "\n",
    "from IPython.display import display\n",
    "from PIL import Image\n",
    "\n",
    "from tensorflow.keras.models import load_model\n",
    "from tensorflow.keras.preprocessing import image\n",
    "import random \n",
    "from tensorflow.keras import models\n",
    "from tensorflow.keras import backend as K\n",
    "\n",
    "import pandas as pd\n",
    "\n",
    "from tensorflow.keras.applications import VGG16, Xception, ResNet50, ResNet101, InceptionResNetV2, DenseNet201"
   ]
  },
  {
   "cell_type": "code",
   "execution_count": 3,
   "metadata": {},
   "outputs": [],
   "source": [
    "gpus = tensorflow.config.experimental.list_physical_devices('GPU')\n",
    "tensorflow.config.experimental.set_memory_growth(gpus[0], True)"
   ]
  },
  {
   "cell_type": "code",
   "execution_count": 4,
   "metadata": {},
   "outputs": [],
   "source": [
    "IMAGE_WIDTH=128\n",
    "IMAGE_HEIGHT=128"
   ]
  },
  {
   "cell_type": "code",
   "execution_count": 5,
   "metadata": {},
   "outputs": [],
   "source": [
    "#Write the local Data and Model Path\n",
    "DATA_PATH = 'C:\\\\Users\\\\pacol\\\\Desktop\\\\GIT\\\\COVID19\\\\data\\\\'\n",
    "MODEL_PATH = 'C:\\\\Users\\\\pacol\\\\Desktop\\\\GIT\\\\COVID19\\\\data\\\\'"
   ]
  },
  {
   "cell_type": "markdown",
   "metadata": {},
   "source": [
    "# Data Generator"
   ]
  },
  {
   "cell_type": "code",
   "execution_count": 6,
   "metadata": {},
   "outputs": [],
   "source": [
    "def data_generator(batch_size):\n",
    "    train_datagen = ImageDataGenerator(rescale = 1./255)\n",
    "    val_datagen = ImageDataGenerator(rescale = 1./255)\n",
    "    test_datagen = ImageDataGenerator(rescale = 1./255)\n",
    "\n",
    "    BATCH_SIZE = batch_size\n",
    "    IMAGE_SIZE=(IMAGE_WIDTH, IMAGE_HEIGHT)\n",
    "\n",
    "    train_dir = DATA_PATH + 'Sorted Data\\\\train'\n",
    "    train_generator = train_datagen.flow_from_directory(\n",
    "        train_dir,\n",
    "        target_size = IMAGE_SIZE,\n",
    "        batch_size = BATCH_SIZE,\n",
    "        shuffle = True,\n",
    "        class_mode = 'categorical'\n",
    "    )\n",
    "\n",
    "    test_dir = DATA_PATH + 'Sorted Data\\\\test'\n",
    "    test_generator = test_datagen.flow_from_directory(\n",
    "        test_dir,\n",
    "        target_size = IMAGE_SIZE,\n",
    "        batch_size = BATCH_SIZE,\n",
    "        shuffle = True,\n",
    "        class_mode = 'categorical'\n",
    "    )\n",
    "\n",
    "    val_dir = DATA_PATH + 'Sorted Data\\\\val'\n",
    "    val_generator = val_datagen.flow_from_directory(\n",
    "        val_dir,\n",
    "        target_size = IMAGE_SIZE,\n",
    "        batch_size = BATCH_SIZE,\n",
    "        shuffle = True,\n",
    "        class_mode = 'categorical'\n",
    "    )\n",
    "    return train_generator, test_generator, val_generator\n"
   ]
  },
  {
   "cell_type": "markdown",
   "metadata": {},
   "source": [
    "# Evaluate Models"
   ]
  },
  {
   "cell_type": "code",
   "execution_count": 9,
   "metadata": {},
   "outputs": [
    {
     "name": "stdout",
     "output_type": "stream",
     "text": [
      "Found 2560 images belonging to 3 classes.\n",
      "Found 800 images belonging to 3 classes.\n",
      "Found 640 images belonging to 3 classes.\n"
     ]
    },
    {
     "data": {
      "text/html": [
       "<div>\n",
       "<style scoped>\n",
       "    .dataframe tbody tr th:only-of-type {\n",
       "        vertical-align: middle;\n",
       "    }\n",
       "\n",
       "    .dataframe tbody tr th {\n",
       "        vertical-align: top;\n",
       "    }\n",
       "\n",
       "    .dataframe thead th {\n",
       "        text-align: right;\n",
       "    }\n",
       "</style>\n",
       "<table border=\"1\" class=\"dataframe\">\n",
       "  <thead>\n",
       "    <tr style=\"text-align: right;\">\n",
       "      <th></th>\n",
       "      <th>Model</th>\n",
       "      <th>Loss</th>\n",
       "      <th>Accuracy</th>\n",
       "    </tr>\n",
       "  </thead>\n",
       "  <tbody>\n",
       "  </tbody>\n",
       "</table>\n",
       "</div>"
      ],
      "text/plain": [
       "Empty DataFrame\n",
       "Columns: [Model, Loss, Accuracy]\n",
       "Index: []"
      ]
     },
     "execution_count": 9,
     "metadata": {},
     "output_type": "execute_result"
    }
   ],
   "source": [
    "batch_size=32\n",
    "train_generator, test_generator, val_generator = data_generator(batch_size)\n",
    "results_test = pd.DataFrame(columns=['Model', 'Loss','Accuracy'])\n",
    "results_test"
   ]
  },
  {
   "cell_type": "code",
   "execution_count": null,
   "metadata": {},
   "outputs": [],
   "source": [
    "model_name = 'VGG16'\n",
    "model = load_model(MODEL_PATH + 'model_VGG16_epochs_20_optimizer_SGD_batch_32.h5')\n",
    "predict = model.evaluate_generator(test_generator)\n",
    "results_test = results_test.append({'Model':model_name,'Loss':predict[0],'Accuracy':predict[1]},ignore_index=True)"
   ]
  },
  {
   "cell_type": "code",
   "execution_count": null,
   "metadata": {},
   "outputs": [],
   "source": [
    "model_name = 'Xception'\n",
    "model = load_model(MODEL_PATH + 'model_Xception_epochs_20_optimizer_SGD_batch_32.h5')\n",
    "predict = model.evaluate_generator(test_generator)\n",
    "results_test = results_test.append({'Model':model_name,'Loss':predict[0],'Accuracy':predict[1]},ignore_index=True)"
   ]
  },
  {
   "cell_type": "code",
   "execution_count": null,
   "metadata": {},
   "outputs": [],
   "source": [
    "model_name = 'ResNet50'\n",
    "model = load_model(MODEL_PATH + 'model_ResNet50_epochs_20_optimizer_SGD_batch_32.h5')\n",
    "predict = model.evaluate_generator(test_generator)\n",
    "results_test = results_test.append({'Model':model_name,'Loss':predict[0],'Accuracy':predict[1]},ignore_index=True)"
   ]
  },
  {
   "cell_type": "code",
   "execution_count": null,
   "metadata": {},
   "outputs": [],
   "source": [
    "model_name = 'ResNet101'\n",
    "model = load_model(MODEL_PATH + 'model_ResNet101_epochs_20_optimizer_SGD_batch_32.h5')\n",
    "predict = model.evaluate_generator(test_generator)\n",
    "results_test = results_test.append({'Model':model_name,'Loss':predict[0],'Accuracy':predict[1]},ignore_index=True)"
   ]
  },
  {
   "cell_type": "code",
   "execution_count": null,
   "metadata": {},
   "outputs": [],
   "source": [
    "model_name = 'InceptionResNetV2'\n",
    "model = load_model(MODEL_PATH + 'model_InceptionResNetV2_epochs_20_optimizer_SGD_batch_32.h5')\n",
    "predict = model.evaluate_generator(test_generator)\n",
    "results_test = results_test.append({'Model':model_name,'Loss':predict[0],'Accuracy':predict[1]},ignore_index=True)"
   ]
  },
  {
   "cell_type": "code",
   "execution_count": null,
   "metadata": {},
   "outputs": [],
   "source": [
    "model_name = 'DenseNet201'\n",
    "model = load_model(MODEL_PATH + 'model_DenseNet201_epochs_20_optimizer_SGD_batch_32.h5')\n",
    "predict = model.evaluate_generator(test_generator)\n",
    "results_test = results_test.append({'Model':model_name,'Loss':predict[0],'Accuracy':predict[1]},ignore_index=True)"
   ]
  },
  {
   "cell_type": "code",
   "execution_count": null,
   "metadata": {},
   "outputs": [],
   "source": [
    "results_test"
   ]
  }
 ],
 "metadata": {
  "kernelspec": {
   "display_name": "Python 3.7 (tensorflow)",
   "language": "python",
   "name": "tensorflow"
  },
  "language_info": {
   "codemirror_mode": {
    "name": "ipython",
    "version": 3
   },
   "file_extension": ".py",
   "mimetype": "text/x-python",
   "name": "python",
   "nbconvert_exporter": "python",
   "pygments_lexer": "ipython3",
   "version": "3.7.7"
  }
 },
 "nbformat": 4,
 "nbformat_minor": 4
}
