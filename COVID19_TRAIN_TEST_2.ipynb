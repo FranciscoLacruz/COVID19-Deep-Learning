{
 "cells": [
  {
   "cell_type": "code",
   "execution_count": 1,
   "metadata": {},
   "outputs": [],
   "source": [
    "import tensorflow \n",
    "import cv2\n",
    "import numpy as np\n",
    "import os\n",
    "from random import shuffle\n",
    "from tqdm import tqdm\n",
    "from matplotlib.image import imread\n",
    "\n",
    "from tensorflow.keras.utils import to_categorical\n",
    "from tensorflow.keras.callbacks import ReduceLROnPlateau, ModelCheckpoint, EarlyStopping\n",
    "\n",
    "import sys\n",
    "import matplotlib.pyplot as plt\n",
    "from tensorflow.keras.utils import to_categorical\n",
    "from tensorflow.keras.models import Sequential\n",
    "from tensorflow.keras.layers import Conv2D, MaxPooling2D, Dense, Flatten, Dropout, BatchNormalization\n",
    "\n",
    "from tensorflow.keras.optimizers import SGD\n",
    "from tensorflow.keras.preprocessing.image import ImageDataGenerator\n",
    "\n",
    "from IPython.display import display\n",
    "from PIL import Image\n",
    "\n",
    "from tensorflow.keras.models import load_model\n",
    "from tensorflow.keras.preprocessing import image\n",
    "import random \n",
    "from tensorflow.keras import models\n",
    "from tensorflow.keras import backend as K\n",
    "\n",
    "import pandas as pd\n",
    "\n",
    "from tensorflow.keras.applications import VGG16, Xception, ResNet50, ResNet101, InceptionResNetV2, DenseNet201"
   ]
  },
  {
   "cell_type": "code",
   "execution_count": 2,
   "metadata": {},
   "outputs": [],
   "source": [
    "gpus = tensorflow.config.experimental.list_physical_devices('GPU')\n",
    "tensorflow.config.experimental.set_memory_growth(gpus[0], True)"
   ]
  },
  {
   "cell_type": "code",
   "execution_count": 3,
   "metadata": {},
   "outputs": [],
   "source": [
    "IMAGE_WIDTH=128\n",
    "IMAGE_HEIGHT=128"
   ]
  },
  {
   "cell_type": "code",
   "execution_count": 4,
   "metadata": {},
   "outputs": [],
   "source": [
    "#Write the local Data and Model Path\n",
    "DATA_PATH = 'C:\\\\Users\\\\pacol\\\\Desktop\\\\GIT\\\\COVID19\\\\data\\\\'\n",
    "MODEL_PATH = 'C:\\\\Users\\\\pacol\\\\Desktop\\\\GIT\\\\COVID19\\\\data\\\\'"
   ]
  },
  {
   "cell_type": "markdown",
   "metadata": {},
   "source": [
    "# Data Generator"
   ]
  },
  {
   "cell_type": "code",
   "execution_count": 5,
   "metadata": {},
   "outputs": [],
   "source": [
    "def data_generator(batch_size):\n",
    "    train_datagen = ImageDataGenerator(rescale = 1./255)\n",
    "    val_datagen = ImageDataGenerator(rescale = 1./255)\n",
    "    test_datagen = ImageDataGenerator(rescale = 1./255)\n",
    "\n",
    "    BATCH_SIZE = batch_size\n",
    "    IMAGE_SIZE=(IMAGE_WIDTH, IMAGE_HEIGHT)\n",
    "\n",
    "    train_dir = DATA_PATH + 'Sorted Data\\\\train'\n",
    "    train_generator = train_datagen.flow_from_directory(\n",
    "        train_dir,\n",
    "        target_size = IMAGE_SIZE,\n",
    "        batch_size = BATCH_SIZE,\n",
    "        shuffle = True,\n",
    "        class_mode = 'categorical'\n",
    "    )\n",
    "\n",
    "    test_dir = DATA_PATH + 'Sorted Data\\\\test'\n",
    "    test_generator = test_datagen.flow_from_directory(\n",
    "        test_dir,\n",
    "        target_size = IMAGE_SIZE,\n",
    "        batch_size = BATCH_SIZE,\n",
    "        shuffle = True,\n",
    "        class_mode = 'categorical'\n",
    "    )\n",
    "\n",
    "    val_dir = DATA_PATH + 'Sorted Data\\\\val'\n",
    "    val_generator = val_datagen.flow_from_directory(\n",
    "        val_dir,\n",
    "        target_size = IMAGE_SIZE,\n",
    "        batch_size = BATCH_SIZE,\n",
    "        shuffle = True,\n",
    "        class_mode = 'categorical'\n",
    "    )\n",
    "    return train_generator, test_generator, val_generator\n"
   ]
  },
  {
   "cell_type": "markdown",
   "metadata": {},
   "source": [
    "# Create CNN"
   ]
  },
  {
   "cell_type": "code",
   "execution_count": 6,
   "metadata": {},
   "outputs": [],
   "source": [
    "def build_model(model_name):\n",
    "\n",
    "\n",
    "    if model_name == 'DenseNet201':\n",
    "\n",
    "        conv_base6 = DenseNet201(include_top=False, weights=None, input_tensor=None, input_shape=(IMAGE_WIDTH,IMAGE_HEIGHT,3), pooling=None, classes=3)\n",
    "\n",
    "        modelDenseNet201 = Sequential()\n",
    "        modelDenseNet201.add(conv_base6)\n",
    "\n",
    "        modelDenseNet201.add(Flatten())\n",
    "        modelDenseNet201.add(Dense(512, activation='relu'))\n",
    "        modelDenseNet201.add(BatchNormalization())\n",
    "        modelDenseNet201.add(Dropout(0.5))\n",
    "        modelDenseNet201.add(Dense(3, activation='softmax')) \n",
    "        return modelDenseNet201"
   ]
  },
  {
   "cell_type": "code",
   "execution_count": 7,
   "metadata": {},
   "outputs": [],
   "source": [
    "def model_evaluate(model_name,optimizer,epochs,batch_size, loss = 'categorical_crossentropy', plot=True):    \n",
    "\n",
    "    train_generator, test_generator, val_generator = data_generator(batch_size)\n",
    "\n",
    "\n",
    "\n",
    "    model = build_model(model_name)\n",
    "    model.compile(optimizer=optimizer, loss=loss, metrics=['accuracy'])\n",
    "    model.summary()\n",
    "\n",
    "    os.chdir(MODEL_PATH)\n",
    "\n",
    "    checkpoint = ModelCheckpoint('model_{}_epochs_{}_optimizer_SGD_batch_{}.h5'.format(model_name,epochs,batch_size), \n",
    "                                 monitor='val_accuracy', \n",
    "                                 verbose=1, \n",
    "                                 save_best_only=True, \n",
    "                                 save_weights_only=False, \n",
    "                                 mode='auto', \n",
    "                                 period=1)\n",
    "\n",
    "    callbacks_list = [checkpoint]\n",
    "\n",
    "    hist=model.fit(train_generator,\n",
    "                            epochs=epochs,\n",
    "                            verbose=1,\n",
    "                            shuffle=True,\n",
    "                            steps_per_epoch = 2560 / batch_size,\n",
    "                            validation_data = val_generator,\n",
    "                            callbacks=callbacks_list)\n",
    "    if(plot):\n",
    "        print(\"------------Epochs: {}------------\".format(epochs))\n",
    "        #Visualize the models accuracy\n",
    "        plt.plot(hist.history['accuracy'])\n",
    "        plt.plot(hist.history['val_accuracy'])\n",
    "        plt.title('Accuracy {}'.format(model.name))\n",
    "        plt.ylabel('Accuracy')\n",
    "        plt.xlabel('Epoch')\n",
    "        plt.legend(['Train', 'Val'], loc='upper left')\n",
    "        plt.show()\n",
    "\n",
    "        #Visualize the models loss\n",
    "        plt.plot(hist.history['loss'])\n",
    "        plt.plot(hist.history['val_loss'])\n",
    "        plt.title('Loss {}'.format(model.name))\n",
    "        plt.ylabel('Loss')\n",
    "        plt.xlabel('Epoch')\n",
    "        plt.legend(['Train', 'Val'], loc='upper left')\n",
    "        plt.show()\n",
    "    \n",
    "\n",
    "    loss_train = hist.history['loss'][-1]\n",
    "    acc_train = hist.history['accuracy'][-1]\n",
    "    loss_val = hist.history['val_loss'][-1]\n",
    "    acc_val = hist.history['val_accuracy'][-1]\n",
    "\n",
    "    print(\"Loss-> Train Set:{:.2f}; Val Set:{:.2f} (Diff: {:2f})\".format(loss_train,loss_val,abs(loss_train-loss_val)))\n",
    "    print(\"Accuracy-> Train Set:{:.2f}; Val Set:{:.2f} (Diff: {:2f})\".format(acc_train,acc_val,abs(acc_train-acc_val)))\n",
    "    \n",
    "    predict = model.evaluate_generator(test_generator)\n",
    "    \n",
    "    \n",
    "    return loss_train, acc_train, loss_val, acc_val, predict[0], predict[1]\n",
    "    "
   ]
  },
  {
   "cell_type": "code",
   "execution_count": 8,
   "metadata": {},
   "outputs": [],
   "source": [
    "opt=tensorflow.keras.optimizers.SGD(learning_rate=0.003, momentum=0.9)\n",
    "epoch = 20\n",
    "batch_size = 32"
   ]
  },
  {
   "cell_type": "code",
   "execution_count": 9,
   "metadata": {},
   "outputs": [],
   "source": [
    "results = pd.DataFrame(columns=['Model','Optimizer','epochs','batch_sizes','loss_train', 'acc_train', 'loss_val', 'acc_val'])\n",
    "results_test = pd.DataFrame(columns=['Model', 'Loss','Accuracy'])"
   ]
  },
  {
   "cell_type": "markdown",
   "metadata": {},
   "source": [
    "# DenseNet201"
   ]
  },
  {
   "cell_type": "code",
   "execution_count": 10,
   "metadata": {
    "scrolled": true
   },
   "outputs": [
    {
     "name": "stdout",
     "output_type": "stream",
     "text": [
      "Found 2560 images belonging to 3 classes.\n",
      "Found 800 images belonging to 3 classes.\n",
      "Found 640 images belonging to 3 classes.\n",
      "Model: \"sequential\"\n",
      "_________________________________________________________________\n",
      "Layer (type)                 Output Shape              Param #   \n",
      "=================================================================\n",
      "densenet201 (Model)          (None, 4, 4, 1920)        18321984  \n",
      "_________________________________________________________________\n",
      "flatten (Flatten)            (None, 30720)             0         \n",
      "_________________________________________________________________\n",
      "dense (Dense)                (None, 512)               15729152  \n",
      "_________________________________________________________________\n",
      "batch_normalization (BatchNo (None, 512)               2048      \n",
      "_________________________________________________________________\n",
      "dropout (Dropout)            (None, 512)               0         \n",
      "_________________________________________________________________\n",
      "dense_1 (Dense)              (None, 3)                 1539      \n",
      "=================================================================\n",
      "Total params: 34,054,723\n",
      "Trainable params: 33,824,643\n",
      "Non-trainable params: 230,080\n",
      "_________________________________________________________________\n",
      "WARNING:tensorflow:`period` argument is deprecated. Please use `save_freq` to specify the frequency in number of samples seen.\n",
      "Train for 80.0 steps, validate for 20 steps\n",
      "Epoch 1/20\n",
      "79/80 [============================>.] - ETA: 0s - loss: 0.5886 - accuracy: 0.7753\n",
      "Epoch 00001: val_accuracy improved from -inf to 0.32812, saving model to model_DenseNet201_epochs_20_optimizer_SGD_batch_32.h5\n",
      "80/80 [==============================] - 63s 787ms/step - loss: 0.5879 - accuracy: 0.7758 - val_loss: 102.8900 - val_accuracy: 0.3281\n",
      "Epoch 2/20\n",
      "79/80 [============================>.] - ETA: 0s - loss: 0.2543 - accuracy: 0.9051\n",
      "Epoch 00002: val_accuracy improved from 0.32812 to 0.48594, saving model to model_DenseNet201_epochs_20_optimizer_SGD_batch_32.h5\n",
      "80/80 [==============================] - 30s 370ms/step - loss: 0.2526 - accuracy: 0.9055 - val_loss: 4.0127 - val_accuracy: 0.4859\n",
      "Epoch 3/20\n",
      "79/80 [============================>.] - ETA: 0s - loss: 0.1763 - accuracy: 0.9395 - ETA: 49s  - - ETA: 2s - loss: 0.1702 - accura - ETA: 0s - loss: 0.1734 - accuracy: 0.94\n",
      "Epoch 00003: val_accuracy improved from 0.48594 to 0.88281, saving model to model_DenseNet201_epochs_20_optimizer_SGD_batch_32.h5\n",
      "80/80 [==============================] - 30s 371ms/step - loss: 0.1754 - accuracy: 0.9395 - val_loss: 0.4467 - val_accuracy: 0.8828\n",
      "Epoch 4/20\n",
      "79/80 [============================>.] - ETA: 0s - loss: 0.1262 - accuracy: 0.9533\n",
      "Epoch 00004: val_accuracy improved from 0.88281 to 0.92031, saving model to model_DenseNet201_epochs_20_optimizer_SGD_batch_32.h5\n",
      "80/80 [==============================] - 30s 371ms/step - loss: 0.1251 - accuracy: 0.9539 - val_loss: 0.2272 - val_accuracy: 0.9203\n",
      "Epoch 5/20\n",
      "79/80 [============================>.] - ETA: 0s - loss: 0.0962 - accuracy: 0.9676\n",
      "Epoch 00005: val_accuracy did not improve from 0.92031\n",
      "80/80 [==============================] - 29s 357ms/step - loss: 0.0951 - accuracy: 0.9680 - val_loss: 0.2135 - val_accuracy: 0.9187\n",
      "Epoch 6/20\n",
      "79/80 [============================>.] - ETA: 0s - loss: 0.0574 - accuracy: 0.9806\n",
      "Epoch 00006: val_accuracy improved from 0.92031 to 0.92813, saving model to model_DenseNet201_epochs_20_optimizer_SGD_batch_32.h5\n",
      "80/80 [==============================] - 30s 371ms/step - loss: 0.0567 - accuracy: 0.9809 - val_loss: 0.2154 - val_accuracy: 0.9281\n",
      "Epoch 7/20\n",
      "79/80 [============================>.] - ETA: 0s - loss: 0.0528 - accuracy: 0.9846 ETA: 0s - loss: 0.0529 - accuracy: 0.98\n",
      "Epoch 00007: val_accuracy improved from 0.92813 to 0.94375, saving model to model_DenseNet201_epochs_20_optimizer_SGD_batch_32.h5\n",
      "80/80 [==============================] - 30s 370ms/step - loss: 0.0522 - accuracy: 0.9848 - val_loss: 0.2143 - val_accuracy: 0.9438\n",
      "Epoch 8/20\n",
      "79/80 [============================>.] - ETA: 0s - loss: 0.0211 - accuracy: 0.9937 ETA: 1s - loss: 0.0220 - accura\n",
      "Epoch 00008: val_accuracy did not improve from 0.94375\n",
      "80/80 [==============================] - 29s 358ms/step - loss: 0.0209 - accuracy: 0.9937 - val_loss: 0.2267 - val_accuracy: 0.9344\n",
      "Epoch 9/20\n",
      "79/80 [============================>.] - ETA: 0s - loss: 0.0080 - accuracy: 0.9976\n",
      "Epoch 00009: val_accuracy did not improve from 0.94375\n",
      "80/80 [==============================] - 29s 357ms/step - loss: 0.0079 - accuracy: 0.9977 - val_loss: 0.2349 - val_accuracy: 0.9438\n",
      "Epoch 10/20\n",
      "79/80 [============================>.] - ETA: 0s - loss: 0.0050 - accuracy: 0.9992\n",
      "Epoch 00010: val_accuracy did not improve from 0.94375\n",
      "80/80 [==============================] - 29s 357ms/step - loss: 0.0049 - accuracy: 0.9992 - val_loss: 0.2633 - val_accuracy: 0.9375\n",
      "Epoch 11/20\n",
      "79/80 [============================>.] - ETA: 0s - loss: 0.0141 - accuracy: 0.9976\n",
      "Epoch 00011: val_accuracy did not improve from 0.94375\n",
      "80/80 [==============================] - 29s 357ms/step - loss: 0.0140 - accuracy: 0.9977 - val_loss: 0.2381 - val_accuracy: 0.9391\n",
      "Epoch 12/20\n",
      "79/80 [============================>.] - ETA: 0s - loss: 0.0019 - accuracy: 1.0000\n",
      "Epoch 00012: val_accuracy did not improve from 0.94375\n",
      "80/80 [==============================] - 29s 358ms/step - loss: 0.0019 - accuracy: 1.0000 - val_loss: 0.2364 - val_accuracy: 0.9406\n",
      "Epoch 13/20\n",
      "79/80 [============================>.] - ETA: 0s - loss: 0.0097 - accuracy: 0.9976\n",
      "Epoch 00013: val_accuracy did not improve from 0.94375\n",
      "80/80 [==============================] - 29s 357ms/step - loss: 0.0096 - accuracy: 0.9977 - val_loss: 0.2794 - val_accuracy: 0.9312\n",
      "Epoch 14/20\n",
      "79/80 [============================>.] - ETA: 0s - loss: 0.0052 - accuracy: 0.9984\n",
      "Epoch 00014: val_accuracy improved from 0.94375 to 0.94687, saving model to model_DenseNet201_epochs_20_optimizer_SGD_batch_32.h5\n",
      "80/80 [==============================] - 30s 371ms/step - loss: 0.0051 - accuracy: 0.9984 - val_loss: 0.2422 - val_accuracy: 0.9469\n",
      "Epoch 15/20\n",
      "79/80 [============================>.] - ETA: 0s - loss: 0.0014 - accuracy: 1.0000\n",
      "Epoch 00015: val_accuracy did not improve from 0.94687\n",
      "80/80 [==============================] - 29s 358ms/step - loss: 0.0014 - accuracy: 1.0000 - val_loss: 0.2413 - val_accuracy: 0.9438\n",
      "Epoch 16/20\n",
      "79/80 [============================>.] - ETA: 0s - loss: 0.0018 - accuracy: 0.9992\n",
      "Epoch 00016: val_accuracy improved from 0.94687 to 0.95000, saving model to model_DenseNet201_epochs_20_optimizer_SGD_batch_32.h5\n",
      "80/80 [==============================] - 30s 371ms/step - loss: 0.0018 - accuracy: 0.9992 - val_loss: 0.2429 - val_accuracy: 0.9500\n",
      "Epoch 17/20\n",
      "79/80 [============================>.] - ETA: 0s - loss: 5.0569e-04 - accuracy: 1.0000\n",
      "Epoch 00017: val_accuracy did not improve from 0.95000\n",
      "80/80 [==============================] - 30s 369ms/step - loss: 5.0370e-04 - accuracy: 1.0000 - val_loss: 0.2485 - val_accuracy: 0.9438\n",
      "Epoch 18/20\n",
      "79/80 [============================>.] - ETA: 0s - loss: 4.6438e-04 - accuracy: 1.0000 ETA: 0s - loss: 4.6830e-04 - accuracy: 1.00\n",
      "Epoch 00018: val_accuracy did not improve from 0.95000\n",
      "80/80 [==============================] - 29s 357ms/step - loss: 4.6228e-04 - accuracy: 1.0000 - val_loss: 0.2489 - val_accuracy: 0.9469\n",
      "Epoch 19/20\n",
      "79/80 [============================>.] - ETA: 0s - loss: 3.8139e-04 - accuracy: 1.0000\n",
      "Epoch 00019: val_accuracy did not improve from 0.95000\n",
      "80/80 [==============================] - 29s 357ms/step - loss: 3.8052e-04 - accuracy: 1.0000 - val_loss: 0.2487 - val_accuracy: 0.9469\n",
      "Epoch 20/20\n",
      "79/80 [============================>.] - ETA: 0s - loss: 2.9514e-04 - accuracy: 1.0000 ETA: 5s - loss: 2.8465e-04 - accu - ETA: 3s - loss: 2.8150e-0\n",
      "Epoch 00020: val_accuracy did not improve from 0.95000\n",
      "80/80 [==============================] - 29s 357ms/step - loss: 2.9210e-04 - accuracy: 1.0000 - val_loss: 0.2531 - val_accuracy: 0.9469\n",
      "------------Epochs: 20------------\n"
     ]
    },
    {
     "data": {
      "image/png": "[encoded data removed]",
      "text/plain": [
       "<Figure size 432x288 with 1 Axes>"
      ]
     },
     "metadata": {
      "needs_background": "light"
     },
     "output_type": "display_data"
    },
    {
     "data": {
      "image/png": "[encoded data removed]",
      "text/plain": [
       "<Figure size 432x288 with 1 Axes>"
      ]
     },
     "metadata": {
      "needs_background": "light"
     },
     "output_type": "display_data"
    },
    {
     "name": "stdout",
     "output_type": "stream",
     "text": [
      "Loss-> Train Set:0.00; Val Set:0.25 (Diff: 0.252815)\n",
      "Accuracy-> Train Set:1.00; Val Set:0.95 (Diff: 0.053125)\n"
     ]
    }
   ],
   "source": [
    "model_name = 'DenseNet201'\n",
    "loss_train, acc_train, loss_val, acc_val, loss_test, acc_test = model_evaluate(model_name=model_name,optimizer=opt,epochs=epoch,batch_size=batch_size, plot=True)\n",
    "results = results.append({'Model':model_name,'Optimizer':'SGD','epochs':epoch,'batch_sizes':batch_size,'loss_train':loss_train, 'acc_train':acc_train, 'loss_val':loss_val, 'acc_val':acc_val},ignore_index=True)\n",
    "results_test = results_test.append({'Model':model_name,'Loss':loss_test,'Accuracy':acc_test},ignore_index=True)\n"
   ]
  },
  {
   "cell_type": "code",
   "execution_count": 11,
   "metadata": {},
   "outputs": [
    {
     "data": {
      "text/html": [
       "<div>\n",
       "<style scoped>\n",
       "    .dataframe tbody tr th:only-of-type {\n",
       "        vertical-align: middle;\n",
       "    }\n",
       "\n",
       "    .dataframe tbody tr th {\n",
       "        vertical-align: top;\n",
       "    }\n",
       "\n",
       "    .dataframe thead th {\n",
       "        text-align: right;\n",
       "    }\n",
       "</style>\n",
       "<table border=\"1\" class=\"dataframe\">\n",
       "  <thead>\n",
       "    <tr style=\"text-align: right;\">\n",
       "      <th></th>\n",
       "      <th>Model</th>\n",
       "      <th>Optimizer</th>\n",
       "      <th>epochs</th>\n",
       "      <th>batch_sizes</th>\n",
       "      <th>loss_train</th>\n",
       "      <th>acc_train</th>\n",
       "      <th>loss_val</th>\n",
       "      <th>acc_val</th>\n",
       "    </tr>\n",
       "  </thead>\n",
       "  <tbody>\n",
       "    <tr>\n",
       "      <th>0</th>\n",
       "      <td>DenseNet201</td>\n",
       "      <td>SGD</td>\n",
       "      <td>20</td>\n",
       "      <td>32</td>\n",
       "      <td>0.000292</td>\n",
       "      <td>1.0</td>\n",
       "      <td>0.253108</td>\n",
       "      <td>0.946875</td>\n",
       "    </tr>\n",
       "  </tbody>\n",
       "</table>\n",
       "</div>"
      ],
      "text/plain": [
       "         Model Optimizer epochs batch_sizes  loss_train  acc_train  loss_val  \\\n",
       "0  DenseNet201       SGD     20          32    0.000292        1.0  0.253108   \n",
       "\n",
       "    acc_val  \n",
       "0  0.946875  "
      ]
     },
     "execution_count": 11,
     "metadata": {},
     "output_type": "execute_result"
    }
   ],
   "source": [
    "results"
   ]
  },
  {
   "cell_type": "code",
   "execution_count": 12,
   "metadata": {},
   "outputs": [
    {
     "data": {
      "text/html": [
       "<div>\n",
       "<style scoped>\n",
       "    .dataframe tbody tr th:only-of-type {\n",
       "        vertical-align: middle;\n",
       "    }\n",
       "\n",
       "    .dataframe tbody tr th {\n",
       "        vertical-align: top;\n",
       "    }\n",
       "\n",
       "    .dataframe thead th {\n",
       "        text-align: right;\n",
       "    }\n",
       "</style>\n",
       "<table border=\"1\" class=\"dataframe\">\n",
       "  <thead>\n",
       "    <tr style=\"text-align: right;\">\n",
       "      <th></th>\n",
       "      <th>Model</th>\n",
       "      <th>Loss</th>\n",
       "      <th>Accuracy</th>\n",
       "    </tr>\n",
       "  </thead>\n",
       "  <tbody>\n",
       "    <tr>\n",
       "      <th>0</th>\n",
       "      <td>DenseNet201</td>\n",
       "      <td>0.198681</td>\n",
       "      <td>0.9525</td>\n",
       "    </tr>\n",
       "  </tbody>\n",
       "</table>\n",
       "</div>"
      ],
      "text/plain": [
       "         Model      Loss  Accuracy\n",
       "0  DenseNet201  0.198681    0.9525"
      ]
     },
     "execution_count": 12,
     "metadata": {},
     "output_type": "execute_result"
    }
   ],
   "source": [
    "results_test"
   ]
  }
 ],
 "metadata": {
  "kernelspec": {
   "display_name": "Python 3.7 (tensorflow)",
   "language": "python",
   "name": "tensorflow"
  },
  "language_info": {
   "codemirror_mode": {
    "name": "ipython",
    "version": 3
   },
   "file_extension": ".py",
   "mimetype": "text/x-python",
   "name": "python",
   "nbconvert_exporter": "python",
   "pygments_lexer": "ipython3",
   "version": "3.7.7"
  }
 },
 "nbformat": 4,
 "nbformat_minor": 4
}
